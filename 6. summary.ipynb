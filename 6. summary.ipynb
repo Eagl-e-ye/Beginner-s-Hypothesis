{
 "cells": [
  {
   "cell_type": "markdown",
   "id": "f2e669f5",
   "metadata": {},
   "source": [
    "# summary: RandomForestRegressor"
   ]
  },
  {
   "cell_type": "code",
   "execution_count": 1,
   "id": "initial_id",
   "metadata": {
    "ExecuteTime": {
     "end_time": "2025-01-20T05:47:02.612263Z",
     "start_time": "2025-01-20T05:47:01.360438Z"
    },
    "collapsed": true
   },
   "outputs": [],
   "source": [
    "import pandas as pd\n",
    "import numpy as np\n",
    "video_features= np.load(r\"C:\\Users\\indra\\Desktop\\DSG PROJECT\\video_features_noiseless_grayscale.npy\")\n",
    "df = pd.read_csv(r'C:\\Users\\indra\\Desktop\\DSG PROJECT\\BH25\\Training_Data\\train.csv')\n",
    "\n",
    "\n",
    "# seperate the values into 2 columns\n",
    "df[['x_sum', 'y_sum']] = df['video_summary'].str.extract(r'\\(([^,]+), ([^,]+)\\)')\n",
    "\n",
    "# Convert columns to numeric values\n",
    "df['x_sum'] = pd.to_numeric(df['x_sum'])\n",
    "df['y_sum'] = pd.to_numeric(df['y_sum'])\n"
   ]
  },
  {
   "cell_type": "code",
   "execution_count": 2,
   "id": "7bd9e010f59d4441",
   "metadata": {
    "ExecuteTime": {
     "end_time": "2025-01-20T05:47:02.679212Z",
     "start_time": "2025-01-20T05:47:02.632387Z"
    }
   },
   "outputs": [
    {
     "data": {
      "text/html": [
       "<div>\n",
       "<style scoped>\n",
       "    .dataframe tbody tr th:only-of-type {\n",
       "        vertical-align: middle;\n",
       "    }\n",
       "\n",
       "    .dataframe tbody tr th {\n",
       "        vertical-align: top;\n",
       "    }\n",
       "\n",
       "    .dataframe thead th {\n",
       "        text-align: right;\n",
       "    }\n",
       "</style>\n",
       "<table border=\"1\" class=\"dataframe\">\n",
       "  <thead>\n",
       "    <tr style=\"text-align: right;\">\n",
       "      <th></th>\n",
       "      <th>video_id</th>\n",
       "      <th>element</th>\n",
       "      <th>motion</th>\n",
       "      <th>power</th>\n",
       "      <th>speed</th>\n",
       "      <th>video_summary</th>\n",
       "      <th>x_sum</th>\n",
       "      <th>y_sum</th>\n",
       "    </tr>\n",
       "  </thead>\n",
       "  <tbody>\n",
       "    <tr>\n",
       "      <th>0</th>\n",
       "      <td>1</td>\n",
       "      <td>Erde</td>\n",
       "      <td>linear</td>\n",
       "      <td>rot</td>\n",
       "      <td>9.6</td>\n",
       "      <td>(3.8147, 31.94809)</td>\n",
       "      <td>3.81470</td>\n",
       "      <td>31.94809</td>\n",
       "    </tr>\n",
       "    <tr>\n",
       "      <th>1</th>\n",
       "      <td>2</td>\n",
       "      <td>Feuer</td>\n",
       "      <td>shm</td>\n",
       "      <td>grin</td>\n",
       "      <td>9.6</td>\n",
       "      <td>(26.70288, -4.29153)</td>\n",
       "      <td>26.70288</td>\n",
       "      <td>-4.29153</td>\n",
       "    </tr>\n",
       "    <tr>\n",
       "      <th>2</th>\n",
       "      <td>3</td>\n",
       "      <td>Feuer</td>\n",
       "      <td>random</td>\n",
       "      <td>gelb</td>\n",
       "      <td>9.6</td>\n",
       "      <td>(3.8147, 8.58307)</td>\n",
       "      <td>3.81470</td>\n",
       "      <td>8.58307</td>\n",
       "    </tr>\n",
       "    <tr>\n",
       "      <th>3</th>\n",
       "      <td>4</td>\n",
       "      <td>Erde</td>\n",
       "      <td>zigzag</td>\n",
       "      <td>lila</td>\n",
       "      <td>6.9</td>\n",
       "      <td>(-24.79553, -0.95367)</td>\n",
       "      <td>-24.79553</td>\n",
       "      <td>-0.95367</td>\n",
       "    </tr>\n",
       "    <tr>\n",
       "      <th>4</th>\n",
       "      <td>5</td>\n",
       "      <td>Erde</td>\n",
       "      <td>linear</td>\n",
       "      <td>lila</td>\n",
       "      <td>9.6</td>\n",
       "      <td>(7.62939, 22.88818)</td>\n",
       "      <td>7.62939</td>\n",
       "      <td>22.88818</td>\n",
       "    </tr>\n",
       "    <tr>\n",
       "      <th>...</th>\n",
       "      <td>...</td>\n",
       "      <td>...</td>\n",
       "      <td>...</td>\n",
       "      <td>...</td>\n",
       "      <td>...</td>\n",
       "      <td>...</td>\n",
       "      <td>...</td>\n",
       "      <td>...</td>\n",
       "    </tr>\n",
       "    <tr>\n",
       "      <th>9995</th>\n",
       "      <td>9996</td>\n",
       "      <td>Feuer</td>\n",
       "      <td>zigzag</td>\n",
       "      <td>rot</td>\n",
       "      <td>9.6</td>\n",
       "      <td>(-1.90735, -11.44409)</td>\n",
       "      <td>-1.90735</td>\n",
       "      <td>-11.44409</td>\n",
       "    </tr>\n",
       "    <tr>\n",
       "      <th>9996</th>\n",
       "      <td>9997</td>\n",
       "      <td>Wasser</td>\n",
       "      <td>shm</td>\n",
       "      <td>gelb</td>\n",
       "      <td>9.6</td>\n",
       "      <td>(0.0, 13.14282)</td>\n",
       "      <td>0.00000</td>\n",
       "      <td>13.14282</td>\n",
       "    </tr>\n",
       "    <tr>\n",
       "      <th>9997</th>\n",
       "      <td>9998</td>\n",
       "      <td>Feuer</td>\n",
       "      <td>circular</td>\n",
       "      <td>lila</td>\n",
       "      <td>6.9</td>\n",
       "      <td>(17.64297, 10.49042)</td>\n",
       "      <td>17.64297</td>\n",
       "      <td>10.49042</td>\n",
       "    </tr>\n",
       "    <tr>\n",
       "      <th>9998</th>\n",
       "      <td>9999</td>\n",
       "      <td>Boden</td>\n",
       "      <td>zigzag</td>\n",
       "      <td>gelb</td>\n",
       "      <td>9.6</td>\n",
       "      <td>(-21.45767, 11.44409)</td>\n",
       "      <td>-21.45767</td>\n",
       "      <td>11.44409</td>\n",
       "    </tr>\n",
       "    <tr>\n",
       "      <th>9999</th>\n",
       "      <td>10000</td>\n",
       "      <td>Luft</td>\n",
       "      <td>zigzag</td>\n",
       "      <td>gelb</td>\n",
       "      <td>6.9</td>\n",
       "      <td>(-18.11981, -6.4373)</td>\n",
       "      <td>-18.11981</td>\n",
       "      <td>-6.43730</td>\n",
       "    </tr>\n",
       "  </tbody>\n",
       "</table>\n",
       "<p>10000 rows × 8 columns</p>\n",
       "</div>"
      ],
      "text/plain": [
       "      video_id element    motion power  speed          video_summary  \\\n",
       "0            1    Erde    linear   rot    9.6     (3.8147, 31.94809)   \n",
       "1            2   Feuer       shm  grin    9.6   (26.70288, -4.29153)   \n",
       "2            3   Feuer    random  gelb    9.6      (3.8147, 8.58307)   \n",
       "3            4    Erde    zigzag  lila    6.9  (-24.79553, -0.95367)   \n",
       "4            5    Erde    linear  lila    9.6    (7.62939, 22.88818)   \n",
       "...        ...     ...       ...   ...    ...                    ...   \n",
       "9995      9996   Feuer    zigzag   rot    9.6  (-1.90735, -11.44409)   \n",
       "9996      9997  Wasser       shm  gelb    9.6        (0.0, 13.14282)   \n",
       "9997      9998   Feuer  circular  lila    6.9   (17.64297, 10.49042)   \n",
       "9998      9999   Boden    zigzag  gelb    9.6  (-21.45767, 11.44409)   \n",
       "9999     10000    Luft    zigzag  gelb    6.9   (-18.11981, -6.4373)   \n",
       "\n",
       "         x_sum     y_sum  \n",
       "0      3.81470  31.94809  \n",
       "1     26.70288  -4.29153  \n",
       "2      3.81470   8.58307  \n",
       "3    -24.79553  -0.95367  \n",
       "4      7.62939  22.88818  \n",
       "...        ...       ...  \n",
       "9995  -1.90735 -11.44409  \n",
       "9996   0.00000  13.14282  \n",
       "9997  17.64297  10.49042  \n",
       "9998 -21.45767  11.44409  \n",
       "9999 -18.11981  -6.43730  \n",
       "\n",
       "[10000 rows x 8 columns]"
      ]
     },
     "execution_count": 2,
     "metadata": {},
     "output_type": "execute_result"
    }
   ],
   "source": [
    "df"
   ]
  },
  {
   "cell_type": "code",
   "execution_count": 3,
   "id": "c39d57cc907379f6",
   "metadata": {
    "ExecuteTime": {
     "end_time": "2025-01-20T05:47:13.610780Z",
     "start_time": "2025-01-20T05:47:13.602939Z"
    }
   },
   "outputs": [],
   "source": [
    "X=video_features # x value of the model is defined\n",
    "label_x=df[\"x_sum\"] \n",
    "label_y=df[\"y_sum\"] # y value of the model is defined for 2 different models"
   ]
  },
  {
   "cell_type": "code",
   "execution_count": 4,
   "id": "2cc5ae13385970f9",
   "metadata": {
    "ExecuteTime": {
     "end_time": "2025-01-20T05:47:17.145142Z",
     "start_time": "2025-01-20T05:47:15.315273Z"
    }
   },
   "outputs": [],
   "source": [
    "from sklearn.model_selection import train_test_split\n",
    "X_train_x, X_test_x, y_train_x, y_test_x = train_test_split(X, label_x, test_size=0.2, random_state=42)\n",
    "X_train_y, X_test_y, y_train_y, y_test_y = train_test_split(X, label_y, test_size=0.2, random_state=42)"
   ]
  },
  {
   "cell_type": "code",
   "execution_count": null,
   "id": "307aedfe",
   "metadata": {},
   "outputs": [],
   "source": [
    "# randomforestregressor is used since the values are continuous\n",
    "from sklearn.ensemble import RandomForestRegressor\n",
    "from sklearn.metrics import mean_squared_error\n",
    "rf_x = RandomForestRegressor(n_estimators=100, random_state=42) # model is defined\n",
    "\n",
    "rf_x.fit(X, label_x)\n",
    "\n",
    "y_pred_x = rf_x.predict(X_test_x)\n",
    "\n",
    "mse = mean_squared_error(y_test_x, y_pred_x) # MSE is calculated for evaluation\n",
    "\n",
    "print(f\"Mean Squared Error (MSE): {mse:.4f}\") "
   ]
  },
  {
   "cell_type": "code",
   "execution_count": null,
   "id": "c581993741348fa9",
   "metadata": {},
   "outputs": [],
   "source": [
    "rf_y = RandomForestRegressor(n_estimators=100, random_state=42) # model is defined\n",
    "\n",
    "rf_y.fit(X, label_y)\n",
    "\n",
    "y_pred_y = rf_y.predict(X_test_y)\n",
    "\n",
    "mse = mean_squared_error(y_test_y, y_pred_y) # MSE is calculate\n",
    "\n",
    "print(f\"Mean Squared Error (MSE): {mse:.4f}\")"
   ]
  },
  {
   "cell_type": "code",
   "execution_count": null,
   "id": "f967077930049b48",
   "metadata": {
    "ExecuteTime": {
     "end_time": "2025-01-19T17:34:17.797086Z",
     "start_time": "2025-01-19T17:34:17.777123Z"
    }
   },
   "outputs": [],
   "source": [
    "import joblib\n",
    "joblib.dump(rf_x, './summary_x_model.pkl')\n",
    "joblib.dump(rf_y, './summary_y_model.pkl')\n",
    "\n",
    "# the models are saved for further use"
   ]
  }
 ],
 "metadata": {
  "kernelspec": {
   "display_name": "Python 3",
   "language": "python",
   "name": "python3"
  },
  "language_info": {
   "codemirror_mode": {
    "name": "ipython",
    "version": 3
   },
   "file_extension": ".py",
   "mimetype": "text/x-python",
   "name": "python",
   "nbconvert_exporter": "python",
   "pygments_lexer": "ipython3",
   "version": "3.13.1"
  }
 },
 "nbformat": 4,
 "nbformat_minor": 5
}
