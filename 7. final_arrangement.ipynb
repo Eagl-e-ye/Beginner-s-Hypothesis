{
 "cells": [
  {
   "cell_type": "code",
   "execution_count": 1,
   "id": "initial_id",
   "metadata": {
    "ExecuteTime": {
     "end_time": "2025-01-22T06:20:57.806786Z",
     "start_time": "2025-01-22T06:20:57.261133Z"
    },
    "collapsed": true
   },
   "outputs": [],
   "source": [
    "import pandas as pd\n",
    "import numpy as np\n",
    "import os\n",
    "import cv2\n"
   ]
  },
  {
   "cell_type": "code",
   "execution_count": 2,
   "id": "e38a06cc2f70e407",
   "metadata": {
    "ExecuteTime": {
     "end_time": "2025-01-22T06:20:57.816912Z",
     "start_time": "2025-01-22T06:20:57.813770Z"
    }
   },
   "outputs": [],
   "source": [
    "test_folder=r\"C:\\Users\\indra\\Desktop\\DSG PROJECT\\BH25\\Testing_Data\" # path to test folder\n",
    "test_video_features = np.load(r'C:\\Users\\indra\\Desktop\\DSG PROJECT\\final models\\test_video_features_noiseless_grayscale_resnet50.npy') # path to the extracted test video feature\n"
   ]
  },
  {
   "cell_type": "code",
   "execution_count": 3,
   "id": "b27cf8c273f57e20",
   "metadata": {
    "ExecuteTime": {
     "end_time": "2025-01-22T06:20:57.987141Z",
     "start_time": "2025-01-22T06:20:57.967918Z"
    }
   },
   "outputs": [],
   "source": [
    "video_ids = []\n",
    "for video_id in sorted(\n",
    "    [f for f in os.listdir(test_folder) if f.endswith(\".mp4\")], key=lambda x: int(x.split('.')[0])):\n",
    "    video_ids.append(video_id.split('.')[0])\n",
    "df = pd.DataFrame({\n",
    "    'video_id': video_ids,\n",
    "})\n",
    "\n",
    "# this creates a dataframe with only the video ids in the 1st column"
   ]
  },
  {
   "cell_type": "code",
   "execution_count": 6,
   "id": "311c145d3f78eb58",
   "metadata": {
    "ExecuteTime": {
     "end_time": "2025-01-22T06:20:59.925231Z",
     "start_time": "2025-01-22T06:20:58.333580Z"
    }
   },
   "outputs": [],
   "source": [
    "import joblib\n",
    "element_model = joblib.load(r\"C:\\Users\\indra\\Desktop\\DSG PROJECT\\final models\\element_model.pkl\")\n",
    "motion_model = joblib.load(r\"C:\\Users\\indra\\Desktop\\DSG PROJECT\\final models\\motion_model.pkl\")\n",
    "power_model = joblib.load(r\"C:\\Users\\indra\\Desktop\\DSG PROJECT\\final models\\power_model.pkl\")\n",
    "speed_model = joblib.load(r\"C:\\Users\\indra\\Desktop\\DSG PROJECT\\final models\\speed_model.pkl\")\n",
    "summary_modelx = joblib.load(r\"C:\\Users\\indra\\Desktop\\DSG PROJECT\\final models\\summary_x_model.pkl\")\n",
    "summary_modely = joblib.load(r\"C:\\Users\\indra\\Desktop\\DSG PROJECT\\final models\\summary_y_model.pkl\")\n",
    "\n",
    "# all the trained and saves models are loaded for test prediction"
   ]
  },
  {
   "cell_type": "code",
   "execution_count": 7,
   "id": "7557341a3db66233",
   "metadata": {
    "ExecuteTime": {
     "end_time": "2025-01-22T06:20:59.987232Z",
     "start_time": "2025-01-22T06:20:59.956758Z"
    }
   },
   "outputs": [
    {
     "data": {
      "text/html": [
       "<div>\n",
       "<style scoped>\n",
       "    .dataframe tbody tr th:only-of-type {\n",
       "        vertical-align: middle;\n",
       "    }\n",
       "\n",
       "    .dataframe tbody tr th {\n",
       "        vertical-align: top;\n",
       "    }\n",
       "\n",
       "    .dataframe thead th {\n",
       "        text-align: right;\n",
       "    }\n",
       "</style>\n",
       "<table border=\"1\" class=\"dataframe\">\n",
       "  <thead>\n",
       "    <tr style=\"text-align: right;\">\n",
       "      <th></th>\n",
       "      <th>video_id</th>\n",
       "    </tr>\n",
       "  </thead>\n",
       "  <tbody>\n",
       "    <tr>\n",
       "      <th>0</th>\n",
       "      <td>1</td>\n",
       "    </tr>\n",
       "    <tr>\n",
       "      <th>1</th>\n",
       "      <td>2</td>\n",
       "    </tr>\n",
       "    <tr>\n",
       "      <th>2</th>\n",
       "      <td>3</td>\n",
       "    </tr>\n",
       "    <tr>\n",
       "      <th>3</th>\n",
       "      <td>4</td>\n",
       "    </tr>\n",
       "    <tr>\n",
       "      <th>4</th>\n",
       "      <td>5</td>\n",
       "    </tr>\n",
       "    <tr>\n",
       "      <th>...</th>\n",
       "      <td>...</td>\n",
       "    </tr>\n",
       "    <tr>\n",
       "      <th>2995</th>\n",
       "      <td>2996</td>\n",
       "    </tr>\n",
       "    <tr>\n",
       "      <th>2996</th>\n",
       "      <td>2997</td>\n",
       "    </tr>\n",
       "    <tr>\n",
       "      <th>2997</th>\n",
       "      <td>2998</td>\n",
       "    </tr>\n",
       "    <tr>\n",
       "      <th>2998</th>\n",
       "      <td>2999</td>\n",
       "    </tr>\n",
       "    <tr>\n",
       "      <th>2999</th>\n",
       "      <td>3000</td>\n",
       "    </tr>\n",
       "  </tbody>\n",
       "</table>\n",
       "<p>3000 rows × 1 columns</p>\n",
       "</div>"
      ],
      "text/plain": [
       "     video_id\n",
       "0           1\n",
       "1           2\n",
       "2           3\n",
       "3           4\n",
       "4           5\n",
       "...       ...\n",
       "2995     2996\n",
       "2996     2997\n",
       "2997     2998\n",
       "2998     2999\n",
       "2999     3000\n",
       "\n",
       "[3000 rows x 1 columns]"
      ]
     },
     "execution_count": 7,
     "metadata": {},
     "output_type": "execute_result"
    }
   ],
   "source": [
    "df"
   ]
  },
  {
   "cell_type": "markdown",
   "id": "85d2242cffb0f6f1",
   "metadata": {},
   "source": [
    "# element"
   ]
  },
  {
   "cell_type": "code",
   "execution_count": 8,
   "id": "c70ca4c935954f4e",
   "metadata": {
    "ExecuteTime": {
     "end_time": "2025-01-22T06:21:00.270042Z",
     "start_time": "2025-01-22T06:21:00.102702Z"
    }
   },
   "outputs": [
    {
     "name": "stdout",
     "output_type": "stream",
     "text": [
      "Predictions (decoded): ['Erde' 'Erde' 'Erde' ... 'Erde' 'Boden' 'Erde']\n"
     ]
    }
   ],
   "source": [
    "# load the labelencoder\n",
    "element_le = joblib.load(r'C:\\Users\\indra\\Desktop\\DSG PROJECT\\final models\\label_encoder_element.pkl')\n",
    "predictions_encoded = element_model.predict(test_video_features)\n",
    "\n",
    "# Decoding the predictions using the loaded LabelEncoder\n",
    "predictions_decoded = element_le.inverse_transform(predictions_encoded)\n",
    "\n",
    "df[\"element\"]=predictions_decoded # new column of element names is create in df\n",
    "\n",
    "print(\"Predictions (decoded):\", predictions_decoded)\n"
   ]
  },
  {
   "cell_type": "code",
   "execution_count": 9,
   "id": "dd97dae21257f19b",
   "metadata": {
    "ExecuteTime": {
     "end_time": "2025-01-22T06:21:00.389682Z",
     "start_time": "2025-01-22T06:21:00.369403Z"
    }
   },
   "outputs": [
    {
     "data": {
      "text/html": [
       "<div>\n",
       "<style scoped>\n",
       "    .dataframe tbody tr th:only-of-type {\n",
       "        vertical-align: middle;\n",
       "    }\n",
       "\n",
       "    .dataframe tbody tr th {\n",
       "        vertical-align: top;\n",
       "    }\n",
       "\n",
       "    .dataframe thead th {\n",
       "        text-align: right;\n",
       "    }\n",
       "</style>\n",
       "<table border=\"1\" class=\"dataframe\">\n",
       "  <thead>\n",
       "    <tr style=\"text-align: right;\">\n",
       "      <th></th>\n",
       "      <th>video_id</th>\n",
       "      <th>element</th>\n",
       "    </tr>\n",
       "  </thead>\n",
       "  <tbody>\n",
       "    <tr>\n",
       "      <th>0</th>\n",
       "      <td>1</td>\n",
       "      <td>Erde</td>\n",
       "    </tr>\n",
       "    <tr>\n",
       "      <th>1</th>\n",
       "      <td>2</td>\n",
       "      <td>Erde</td>\n",
       "    </tr>\n",
       "    <tr>\n",
       "      <th>2</th>\n",
       "      <td>3</td>\n",
       "      <td>Erde</td>\n",
       "    </tr>\n",
       "    <tr>\n",
       "      <th>3</th>\n",
       "      <td>4</td>\n",
       "      <td>Erde</td>\n",
       "    </tr>\n",
       "    <tr>\n",
       "      <th>4</th>\n",
       "      <td>5</td>\n",
       "      <td>Erde</td>\n",
       "    </tr>\n",
       "    <tr>\n",
       "      <th>...</th>\n",
       "      <td>...</td>\n",
       "      <td>...</td>\n",
       "    </tr>\n",
       "    <tr>\n",
       "      <th>2995</th>\n",
       "      <td>2996</td>\n",
       "      <td>Erde</td>\n",
       "    </tr>\n",
       "    <tr>\n",
       "      <th>2996</th>\n",
       "      <td>2997</td>\n",
       "      <td>Erde</td>\n",
       "    </tr>\n",
       "    <tr>\n",
       "      <th>2997</th>\n",
       "      <td>2998</td>\n",
       "      <td>Erde</td>\n",
       "    </tr>\n",
       "    <tr>\n",
       "      <th>2998</th>\n",
       "      <td>2999</td>\n",
       "      <td>Boden</td>\n",
       "    </tr>\n",
       "    <tr>\n",
       "      <th>2999</th>\n",
       "      <td>3000</td>\n",
       "      <td>Erde</td>\n",
       "    </tr>\n",
       "  </tbody>\n",
       "</table>\n",
       "<p>3000 rows × 2 columns</p>\n",
       "</div>"
      ],
      "text/plain": [
       "     video_id element\n",
       "0           1    Erde\n",
       "1           2    Erde\n",
       "2           3    Erde\n",
       "3           4    Erde\n",
       "4           5    Erde\n",
       "...       ...     ...\n",
       "2995     2996    Erde\n",
       "2996     2997    Erde\n",
       "2997     2998    Erde\n",
       "2998     2999   Boden\n",
       "2999     3000    Erde\n",
       "\n",
       "[3000 rows x 2 columns]"
      ]
     },
     "execution_count": 9,
     "metadata": {},
     "output_type": "execute_result"
    }
   ],
   "source": [
    "df"
   ]
  },
  {
   "cell_type": "markdown",
   "id": "6ec86e42e9ffe65e",
   "metadata": {},
   "source": [
    "# motion"
   ]
  },
  {
   "cell_type": "code",
   "execution_count": 10,
   "id": "2048f51797088357",
   "metadata": {
    "ExecuteTime": {
     "end_time": "2025-01-22T06:21:00.569114Z",
     "start_time": "2025-01-22T06:21:00.511670Z"
    }
   },
   "outputs": [
    {
     "name": "stdout",
     "output_type": "stream",
     "text": [
      "Predictions (decoded): ['random' 'random' 'linear' ... 'shm' 'linear' 'random']\n"
     ]
    }
   ],
   "source": [
    "# load the labelencoder\n",
    "motion_le = joblib.load(r'C:\\Users\\indra\\Desktop\\DSG PROJECT\\final models\\label_encoder_motion.pkl')\n",
    "\n",
    "predictions_encoded = motion_model.predict(test_video_features)\n",
    "\n",
    "# Decoding the predictions using the loaded LabelEncoder\n",
    "predictions_decoded = motion_le.inverse_transform(predictions_encoded)\n",
    "\n",
    "df[\"motion\"]=predictions_decoded # new column of element names is created in the df\n",
    "\n",
    "print(\"Predictions (decoded):\", predictions_decoded)\n"
   ]
  },
  {
   "cell_type": "code",
   "execution_count": 11,
   "id": "6d968bd74d15518d",
   "metadata": {
    "ExecuteTime": {
     "end_time": "2025-01-22T06:21:00.658909Z",
     "start_time": "2025-01-22T06:21:00.639756Z"
    }
   },
   "outputs": [
    {
     "data": {
      "text/html": [
       "<div>\n",
       "<style scoped>\n",
       "    .dataframe tbody tr th:only-of-type {\n",
       "        vertical-align: middle;\n",
       "    }\n",
       "\n",
       "    .dataframe tbody tr th {\n",
       "        vertical-align: top;\n",
       "    }\n",
       "\n",
       "    .dataframe thead th {\n",
       "        text-align: right;\n",
       "    }\n",
       "</style>\n",
       "<table border=\"1\" class=\"dataframe\">\n",
       "  <thead>\n",
       "    <tr style=\"text-align: right;\">\n",
       "      <th></th>\n",
       "      <th>video_id</th>\n",
       "      <th>element</th>\n",
       "      <th>motion</th>\n",
       "    </tr>\n",
       "  </thead>\n",
       "  <tbody>\n",
       "    <tr>\n",
       "      <th>0</th>\n",
       "      <td>1</td>\n",
       "      <td>Erde</td>\n",
       "      <td>random</td>\n",
       "    </tr>\n",
       "    <tr>\n",
       "      <th>1</th>\n",
       "      <td>2</td>\n",
       "      <td>Erde</td>\n",
       "      <td>random</td>\n",
       "    </tr>\n",
       "    <tr>\n",
       "      <th>2</th>\n",
       "      <td>3</td>\n",
       "      <td>Erde</td>\n",
       "      <td>linear</td>\n",
       "    </tr>\n",
       "    <tr>\n",
       "      <th>3</th>\n",
       "      <td>4</td>\n",
       "      <td>Erde</td>\n",
       "      <td>shm</td>\n",
       "    </tr>\n",
       "    <tr>\n",
       "      <th>4</th>\n",
       "      <td>5</td>\n",
       "      <td>Erde</td>\n",
       "      <td>shm</td>\n",
       "    </tr>\n",
       "    <tr>\n",
       "      <th>...</th>\n",
       "      <td>...</td>\n",
       "      <td>...</td>\n",
       "      <td>...</td>\n",
       "    </tr>\n",
       "    <tr>\n",
       "      <th>2995</th>\n",
       "      <td>2996</td>\n",
       "      <td>Erde</td>\n",
       "      <td>shm</td>\n",
       "    </tr>\n",
       "    <tr>\n",
       "      <th>2996</th>\n",
       "      <td>2997</td>\n",
       "      <td>Erde</td>\n",
       "      <td>random</td>\n",
       "    </tr>\n",
       "    <tr>\n",
       "      <th>2997</th>\n",
       "      <td>2998</td>\n",
       "      <td>Erde</td>\n",
       "      <td>shm</td>\n",
       "    </tr>\n",
       "    <tr>\n",
       "      <th>2998</th>\n",
       "      <td>2999</td>\n",
       "      <td>Boden</td>\n",
       "      <td>linear</td>\n",
       "    </tr>\n",
       "    <tr>\n",
       "      <th>2999</th>\n",
       "      <td>3000</td>\n",
       "      <td>Erde</td>\n",
       "      <td>random</td>\n",
       "    </tr>\n",
       "  </tbody>\n",
       "</table>\n",
       "<p>3000 rows × 3 columns</p>\n",
       "</div>"
      ],
      "text/plain": [
       "     video_id element  motion\n",
       "0           1    Erde  random\n",
       "1           2    Erde  random\n",
       "2           3    Erde  linear\n",
       "3           4    Erde     shm\n",
       "4           5    Erde     shm\n",
       "...       ...     ...     ...\n",
       "2995     2996    Erde     shm\n",
       "2996     2997    Erde  random\n",
       "2997     2998    Erde     shm\n",
       "2998     2999   Boden  linear\n",
       "2999     3000    Erde  random\n",
       "\n",
       "[3000 rows x 3 columns]"
      ]
     },
     "execution_count": 11,
     "metadata": {},
     "output_type": "execute_result"
    }
   ],
   "source": [
    "df"
   ]
  },
  {
   "cell_type": "markdown",
   "id": "aeddf804f3eb7343",
   "metadata": {},
   "source": [
    "# power"
   ]
  },
  {
   "cell_type": "code",
   "execution_count": 12,
   "id": "1d273570e20664ba",
   "metadata": {
    "ExecuteTime": {
     "end_time": "2025-01-22T06:21:11.153369Z",
     "start_time": "2025-01-22T06:21:00.754704Z"
    }
   },
   "outputs": [],
   "source": [
    "# this is the same function used before for power model to extract the brightest colour of the titan in the video\n",
    "def extract_brightest_color(video_path):\n",
    "    cap = cv2.VideoCapture(video_path)\n",
    "    success, frame = cap.read()  # Reads the frames\n",
    "\n",
    "    if success:\n",
    "        frame_rgb = cv2.cvtColor(frame, cv2.COLOR_BGR2RGB)\n",
    "        brightest_pixel = frame_rgb.reshape(-1, 3).max(axis=0)  # Get rgb values of the brightest pixel\n",
    "        return [int(value) for value in brightest_pixel]  \n",
    "    else:\n",
    "        print(f\"Could not read video: {video_path}\")\n",
    "        return None\n",
    "    cap.release()\n",
    "\n",
    "def update_csv_with_brightest_color(df, video_folder):\n",
    "    dff = df\n",
    "    brightest_colors = []\n",
    "\n",
    "    for video_id in dff['video_id']:\n",
    "        video_path = f\"{video_folder}/{video_id}.mp4\"  # checks the video with the video id in the df\n",
    "        rgb = extract_brightest_color(video_path)\n",
    "        brightest_colors.append(rgb)\n",
    "\n",
    "    dff['shape_rgb_values'] = brightest_colors\n",
    "    return dff\n",
    "\n",
    "df= update_csv_with_brightest_color(df, test_folder) # on calling the functions a seperate columns with rgb tupple will be created\n",
    "\n",
    "df[['R', 'G', 'B']] = pd.DataFrame(df['shape_rgb_values'].tolist(), index=df.index) # the RGB values are seperated into diff columns\n",
    "\n",
    "from sklearn.preprocessing import StandardScaler\n",
    "scaler = StandardScaler()\n",
    "X = df[['R', 'G', 'B']]\n",
    "X = scaler.fit_transform(X)\n",
    "# the values are preprocessed with standardscalar before training with Logistic regression for more accuracy"
   ]
  },
  {
   "cell_type": "code",
   "execution_count": 13,
   "id": "6955148830567af5",
   "metadata": {
    "ExecuteTime": {
     "end_time": "2025-01-22T06:21:11.193408Z",
     "start_time": "2025-01-22T06:21:11.185047Z"
    }
   },
   "outputs": [
    {
     "name": "stdout",
     "output_type": "stream",
     "text": [
      "Predictions (decoded): ['rot' 'lila' 'blau' ... 'gelb' 'gelb' 'lila']\n"
     ]
    }
   ],
   "source": [
    "# Load the saved labelencoder\n",
    "power_le = joblib.load(r'C:\\Users\\indra\\Desktop\\DSG PROJECT\\final models\\label_encoder_power.pkl')\n",
    "predictions_encoded = power_model.predict(X)\n",
    "\n",
    "# Decode the predictions using the loaded LabelEncoder\n",
    "predictions_decoded = power_le.inverse_transform(predictions_encoded)\n",
    "\n",
    "df[\"power\"]=predictions_decoded # new columns with power values is created\n",
    "\n",
    "print(\"Predictions (decoded):\", predictions_decoded)\n"
   ]
  },
  {
   "cell_type": "code",
   "execution_count": 14,
   "id": "c90187a3ddfb6087",
   "metadata": {
    "ExecuteTime": {
     "end_time": "2025-01-22T06:21:11.229021Z",
     "start_time": "2025-01-22T06:21:11.212039Z"
    }
   },
   "outputs": [
    {
     "data": {
      "text/html": [
       "<div>\n",
       "<style scoped>\n",
       "    .dataframe tbody tr th:only-of-type {\n",
       "        vertical-align: middle;\n",
       "    }\n",
       "\n",
       "    .dataframe tbody tr th {\n",
       "        vertical-align: top;\n",
       "    }\n",
       "\n",
       "    .dataframe thead th {\n",
       "        text-align: right;\n",
       "    }\n",
       "</style>\n",
       "<table border=\"1\" class=\"dataframe\">\n",
       "  <thead>\n",
       "    <tr style=\"text-align: right;\">\n",
       "      <th></th>\n",
       "      <th>video_id</th>\n",
       "      <th>element</th>\n",
       "      <th>motion</th>\n",
       "      <th>power</th>\n",
       "    </tr>\n",
       "  </thead>\n",
       "  <tbody>\n",
       "    <tr>\n",
       "      <th>0</th>\n",
       "      <td>1</td>\n",
       "      <td>Erde</td>\n",
       "      <td>random</td>\n",
       "      <td>rot</td>\n",
       "    </tr>\n",
       "    <tr>\n",
       "      <th>1</th>\n",
       "      <td>2</td>\n",
       "      <td>Erde</td>\n",
       "      <td>random</td>\n",
       "      <td>lila</td>\n",
       "    </tr>\n",
       "    <tr>\n",
       "      <th>2</th>\n",
       "      <td>3</td>\n",
       "      <td>Erde</td>\n",
       "      <td>linear</td>\n",
       "      <td>blau</td>\n",
       "    </tr>\n",
       "    <tr>\n",
       "      <th>3</th>\n",
       "      <td>4</td>\n",
       "      <td>Erde</td>\n",
       "      <td>shm</td>\n",
       "      <td>rot</td>\n",
       "    </tr>\n",
       "    <tr>\n",
       "      <th>4</th>\n",
       "      <td>5</td>\n",
       "      <td>Erde</td>\n",
       "      <td>shm</td>\n",
       "      <td>blau</td>\n",
       "    </tr>\n",
       "    <tr>\n",
       "      <th>...</th>\n",
       "      <td>...</td>\n",
       "      <td>...</td>\n",
       "      <td>...</td>\n",
       "      <td>...</td>\n",
       "    </tr>\n",
       "    <tr>\n",
       "      <th>2995</th>\n",
       "      <td>2996</td>\n",
       "      <td>Erde</td>\n",
       "      <td>shm</td>\n",
       "      <td>rot</td>\n",
       "    </tr>\n",
       "    <tr>\n",
       "      <th>2996</th>\n",
       "      <td>2997</td>\n",
       "      <td>Erde</td>\n",
       "      <td>random</td>\n",
       "      <td>lila</td>\n",
       "    </tr>\n",
       "    <tr>\n",
       "      <th>2997</th>\n",
       "      <td>2998</td>\n",
       "      <td>Erde</td>\n",
       "      <td>shm</td>\n",
       "      <td>gelb</td>\n",
       "    </tr>\n",
       "    <tr>\n",
       "      <th>2998</th>\n",
       "      <td>2999</td>\n",
       "      <td>Boden</td>\n",
       "      <td>linear</td>\n",
       "      <td>gelb</td>\n",
       "    </tr>\n",
       "    <tr>\n",
       "      <th>2999</th>\n",
       "      <td>3000</td>\n",
       "      <td>Erde</td>\n",
       "      <td>random</td>\n",
       "      <td>lila</td>\n",
       "    </tr>\n",
       "  </tbody>\n",
       "</table>\n",
       "<p>3000 rows × 4 columns</p>\n",
       "</div>"
      ],
      "text/plain": [
       "     video_id element  motion power\n",
       "0           1    Erde  random   rot\n",
       "1           2    Erde  random  lila\n",
       "2           3    Erde  linear  blau\n",
       "3           4    Erde     shm   rot\n",
       "4           5    Erde     shm  blau\n",
       "...       ...     ...     ...   ...\n",
       "2995     2996    Erde     shm   rot\n",
       "2996     2997    Erde  random  lila\n",
       "2997     2998    Erde     shm  gelb\n",
       "2998     2999   Boden  linear  gelb\n",
       "2999     3000    Erde  random  lila\n",
       "\n",
       "[3000 rows x 4 columns]"
      ]
     },
     "execution_count": 14,
     "metadata": {},
     "output_type": "execute_result"
    }
   ],
   "source": [
    "df=df.drop(columns=[['shape_rgb_values','R','G','B']]) # the extra columns are droped\n",
    "df"
   ]
  },
  {
   "cell_type": "markdown",
   "id": "46593f970b9448b0",
   "metadata": {},
   "source": [
    "# speed"
   ]
  },
  {
   "cell_type": "code",
   "execution_count": 15,
   "id": "1b60c6c51cbd431e",
   "metadata": {
    "ExecuteTime": {
     "end_time": "2025-01-22T06:21:11.351699Z",
     "start_time": "2025-01-22T06:21:11.291585Z"
    }
   },
   "outputs": [
    {
     "name": "stdout",
     "output_type": "stream",
     "text": [
      "Predictions (decoded): [6.9 6.9 9.6 ... 9.6 9.6 9.6]\n"
     ]
    }
   ],
   "source": [
    "# Load the saved labelencoder\n",
    "speed_le = joblib.load(r'C:\\Users\\indra\\Desktop\\DSG PROJECT\\final models\\label_encoder_speed.pkl')\n",
    "\n",
    "predictions_encoded = speed_model.predict(test_video_features)\n",
    "\n",
    "# Decode the predictions using the loaded LabelEncoder\n",
    "predictions_decoded = speed_le.inverse_transform(predictions_encoded)\n",
    "\n",
    "df[\"speed\"]=predictions_decoded\n",
    "\n",
    "print(\"Predictions (decoded):\", predictions_decoded)"
   ]
  },
  {
   "cell_type": "code",
   "execution_count": 16,
   "id": "3fe0516a7df39851",
   "metadata": {
    "ExecuteTime": {
     "end_time": "2025-01-22T06:21:11.426366Z",
     "start_time": "2025-01-22T06:21:11.408956Z"
    }
   },
   "outputs": [
    {
     "data": {
      "text/html": [
       "<div>\n",
       "<style scoped>\n",
       "    .dataframe tbody tr th:only-of-type {\n",
       "        vertical-align: middle;\n",
       "    }\n",
       "\n",
       "    .dataframe tbody tr th {\n",
       "        vertical-align: top;\n",
       "    }\n",
       "\n",
       "    .dataframe thead th {\n",
       "        text-align: right;\n",
       "    }\n",
       "</style>\n",
       "<table border=\"1\" class=\"dataframe\">\n",
       "  <thead>\n",
       "    <tr style=\"text-align: right;\">\n",
       "      <th></th>\n",
       "      <th>video_id</th>\n",
       "      <th>element</th>\n",
       "      <th>motion</th>\n",
       "      <th>power</th>\n",
       "      <th>speed</th>\n",
       "    </tr>\n",
       "  </thead>\n",
       "  <tbody>\n",
       "    <tr>\n",
       "      <th>0</th>\n",
       "      <td>1</td>\n",
       "      <td>Erde</td>\n",
       "      <td>random</td>\n",
       "      <td>rot</td>\n",
       "      <td>6.9</td>\n",
       "    </tr>\n",
       "    <tr>\n",
       "      <th>1</th>\n",
       "      <td>2</td>\n",
       "      <td>Erde</td>\n",
       "      <td>random</td>\n",
       "      <td>lila</td>\n",
       "      <td>6.9</td>\n",
       "    </tr>\n",
       "    <tr>\n",
       "      <th>2</th>\n",
       "      <td>3</td>\n",
       "      <td>Erde</td>\n",
       "      <td>linear</td>\n",
       "      <td>blau</td>\n",
       "      <td>9.6</td>\n",
       "    </tr>\n",
       "    <tr>\n",
       "      <th>3</th>\n",
       "      <td>4</td>\n",
       "      <td>Erde</td>\n",
       "      <td>shm</td>\n",
       "      <td>rot</td>\n",
       "      <td>6.9</td>\n",
       "    </tr>\n",
       "    <tr>\n",
       "      <th>4</th>\n",
       "      <td>5</td>\n",
       "      <td>Erde</td>\n",
       "      <td>shm</td>\n",
       "      <td>blau</td>\n",
       "      <td>9.6</td>\n",
       "    </tr>\n",
       "    <tr>\n",
       "      <th>...</th>\n",
       "      <td>...</td>\n",
       "      <td>...</td>\n",
       "      <td>...</td>\n",
       "      <td>...</td>\n",
       "      <td>...</td>\n",
       "    </tr>\n",
       "    <tr>\n",
       "      <th>2995</th>\n",
       "      <td>2996</td>\n",
       "      <td>Erde</td>\n",
       "      <td>shm</td>\n",
       "      <td>rot</td>\n",
       "      <td>9.6</td>\n",
       "    </tr>\n",
       "    <tr>\n",
       "      <th>2996</th>\n",
       "      <td>2997</td>\n",
       "      <td>Erde</td>\n",
       "      <td>random</td>\n",
       "      <td>lila</td>\n",
       "      <td>9.6</td>\n",
       "    </tr>\n",
       "    <tr>\n",
       "      <th>2997</th>\n",
       "      <td>2998</td>\n",
       "      <td>Erde</td>\n",
       "      <td>shm</td>\n",
       "      <td>gelb</td>\n",
       "      <td>9.6</td>\n",
       "    </tr>\n",
       "    <tr>\n",
       "      <th>2998</th>\n",
       "      <td>2999</td>\n",
       "      <td>Boden</td>\n",
       "      <td>linear</td>\n",
       "      <td>gelb</td>\n",
       "      <td>9.6</td>\n",
       "    </tr>\n",
       "    <tr>\n",
       "      <th>2999</th>\n",
       "      <td>3000</td>\n",
       "      <td>Erde</td>\n",
       "      <td>random</td>\n",
       "      <td>lila</td>\n",
       "      <td>9.6</td>\n",
       "    </tr>\n",
       "  </tbody>\n",
       "</table>\n",
       "<p>3000 rows × 5 columns</p>\n",
       "</div>"
      ],
      "text/plain": [
       "     video_id element  motion power  speed\n",
       "0           1    Erde  random   rot    6.9\n",
       "1           2    Erde  random  lila    6.9\n",
       "2           3    Erde  linear  blau    9.6\n",
       "3           4    Erde     shm   rot    6.9\n",
       "4           5    Erde     shm  blau    9.6\n",
       "...       ...     ...     ...   ...    ...\n",
       "2995     2996    Erde     shm   rot    9.6\n",
       "2996     2997    Erde  random  lila    9.6\n",
       "2997     2998    Erde     shm  gelb    9.6\n",
       "2998     2999   Boden  linear  gelb    9.6\n",
       "2999     3000    Erde  random  lila    9.6\n",
       "\n",
       "[3000 rows x 5 columns]"
      ]
     },
     "execution_count": 16,
     "metadata": {},
     "output_type": "execute_result"
    }
   ],
   "source": [
    "df"
   ]
  },
  {
   "cell_type": "markdown",
   "id": "1354afc30f9926ae",
   "metadata": {},
   "source": [
    "# summary"
   ]
  },
  {
   "cell_type": "code",
   "execution_count": 17,
   "id": "4b907c847f458bf",
   "metadata": {
    "ExecuteTime": {
     "end_time": "2025-01-22T06:21:11.989851Z",
     "start_time": "2025-01-22T06:21:11.489103Z"
    }
   },
   "outputs": [
    {
     "name": "stdout",
     "output_type": "stream",
     "text": [
      "Predictions decoded\n"
     ]
    }
   ],
   "source": [
    "# prediction the values of x and y\n",
    "predictions_x = summary_modelx.predict(test_video_features)\n",
    "predictions_y = summary_modely.predict(test_video_features)\n",
    "\n",
    "predictions_x = [round(float(pred), 10) for pred in predictions_x] # this is done to convert the values to float32 and upto 10 decimal place\n",
    "predictions_y = [round(float(pred), 10) for pred in predictions_y] # this is done to convert the values to float32 and upto 10 decimal place\n",
    "\n",
    "df[\"video_summary\"]=list(zip(predictions_x, predictions_y)) # new column with zipped values of x and y is created\n",
    "\n",
    "print(\"Predictions decoded\")\n"
   ]
  },
  {
   "cell_type": "code",
   "execution_count": 18,
   "id": "7d625f40c7ff1ce9",
   "metadata": {
    "ExecuteTime": {
     "end_time": "2025-01-22T06:21:12.043328Z",
     "start_time": "2025-01-22T06:21:12.029869Z"
    }
   },
   "outputs": [
    {
     "data": {
      "text/html": [
       "<div>\n",
       "<style scoped>\n",
       "    .dataframe tbody tr th:only-of-type {\n",
       "        vertical-align: middle;\n",
       "    }\n",
       "\n",
       "    .dataframe tbody tr th {\n",
       "        vertical-align: top;\n",
       "    }\n",
       "\n",
       "    .dataframe thead th {\n",
       "        text-align: right;\n",
       "    }\n",
       "</style>\n",
       "<table border=\"1\" class=\"dataframe\">\n",
       "  <thead>\n",
       "    <tr style=\"text-align: right;\">\n",
       "      <th></th>\n",
       "      <th>video_id</th>\n",
       "      <th>element</th>\n",
       "      <th>motion</th>\n",
       "      <th>power</th>\n",
       "      <th>speed</th>\n",
       "      <th>video_summary</th>\n",
       "    </tr>\n",
       "  </thead>\n",
       "  <tbody>\n",
       "    <tr>\n",
       "      <th>0</th>\n",
       "      <td>1</td>\n",
       "      <td>Erde</td>\n",
       "      <td>random</td>\n",
       "      <td>rot</td>\n",
       "      <td>6.9</td>\n",
       "      <td>(2.0945073, -5.9732791)</td>\n",
       "    </tr>\n",
       "    <tr>\n",
       "      <th>1</th>\n",
       "      <td>2</td>\n",
       "      <td>Erde</td>\n",
       "      <td>random</td>\n",
       "      <td>lila</td>\n",
       "      <td>6.9</td>\n",
       "      <td>(3.1802054, -3.6987104)</td>\n",
       "    </tr>\n",
       "    <tr>\n",
       "      <th>2</th>\n",
       "      <td>3</td>\n",
       "      <td>Erde</td>\n",
       "      <td>linear</td>\n",
       "      <td>blau</td>\n",
       "      <td>9.6</td>\n",
       "      <td>(-1.3200939, 1.4579299)</td>\n",
       "    </tr>\n",
       "    <tr>\n",
       "      <th>3</th>\n",
       "      <td>4</td>\n",
       "      <td>Erde</td>\n",
       "      <td>shm</td>\n",
       "      <td>rot</td>\n",
       "      <td>6.9</td>\n",
       "      <td>(0.9536747, -1.3488529)</td>\n",
       "    </tr>\n",
       "    <tr>\n",
       "      <th>4</th>\n",
       "      <td>5</td>\n",
       "      <td>Erde</td>\n",
       "      <td>shm</td>\n",
       "      <td>blau</td>\n",
       "      <td>9.6</td>\n",
       "      <td>(-3.2264, 1.5098046)</td>\n",
       "    </tr>\n",
       "    <tr>\n",
       "      <th>...</th>\n",
       "      <td>...</td>\n",
       "      <td>...</td>\n",
       "      <td>...</td>\n",
       "      <td>...</td>\n",
       "      <td>...</td>\n",
       "      <td>...</td>\n",
       "    </tr>\n",
       "    <tr>\n",
       "      <th>2995</th>\n",
       "      <td>2996</td>\n",
       "      <td>Erde</td>\n",
       "      <td>shm</td>\n",
       "      <td>rot</td>\n",
       "      <td>9.6</td>\n",
       "      <td>(0.4470351, 4.084706)</td>\n",
       "    </tr>\n",
       "    <tr>\n",
       "      <th>2996</th>\n",
       "      <td>2997</td>\n",
       "      <td>Erde</td>\n",
       "      <td>random</td>\n",
       "      <td>lila</td>\n",
       "      <td>9.6</td>\n",
       "      <td>(0.2765653, 1.8423791)</td>\n",
       "    </tr>\n",
       "    <tr>\n",
       "      <th>2997</th>\n",
       "      <td>2998</td>\n",
       "      <td>Erde</td>\n",
       "      <td>shm</td>\n",
       "      <td>gelb</td>\n",
       "      <td>9.6</td>\n",
       "      <td>(-0.0636273, 2.0954016)</td>\n",
       "    </tr>\n",
       "    <tr>\n",
       "      <th>2998</th>\n",
       "      <td>2999</td>\n",
       "      <td>Boden</td>\n",
       "      <td>linear</td>\n",
       "      <td>gelb</td>\n",
       "      <td>9.6</td>\n",
       "      <td>(9.1516978, 0.2208351)</td>\n",
       "    </tr>\n",
       "    <tr>\n",
       "      <th>2999</th>\n",
       "      <td>3000</td>\n",
       "      <td>Erde</td>\n",
       "      <td>random</td>\n",
       "      <td>lila</td>\n",
       "      <td>9.6</td>\n",
       "      <td>(0.7405132, 0.1047553)</td>\n",
       "    </tr>\n",
       "  </tbody>\n",
       "</table>\n",
       "<p>3000 rows × 6 columns</p>\n",
       "</div>"
      ],
      "text/plain": [
       "     video_id element  motion power  speed            video_summary\n",
       "0           1    Erde  random   rot    6.9  (2.0945073, -5.9732791)\n",
       "1           2    Erde  random  lila    6.9  (3.1802054, -3.6987104)\n",
       "2           3    Erde  linear  blau    9.6  (-1.3200939, 1.4579299)\n",
       "3           4    Erde     shm   rot    6.9  (0.9536747, -1.3488529)\n",
       "4           5    Erde     shm  blau    9.6     (-3.2264, 1.5098046)\n",
       "...       ...     ...     ...   ...    ...                      ...\n",
       "2995     2996    Erde     shm   rot    9.6    (0.4470351, 4.084706)\n",
       "2996     2997    Erde  random  lila    9.6   (0.2765653, 1.8423791)\n",
       "2997     2998    Erde     shm  gelb    9.6  (-0.0636273, 2.0954016)\n",
       "2998     2999   Boden  linear  gelb    9.6   (9.1516978, 0.2208351)\n",
       "2999     3000    Erde  random  lila    9.6   (0.7405132, 0.1047553)\n",
       "\n",
       "[3000 rows x 6 columns]"
      ]
     },
     "execution_count": 18,
     "metadata": {},
     "output_type": "execute_result"
    }
   ],
   "source": [
    "df # checking the final df"
   ]
  },
  {
   "cell_type": "code",
   "execution_count": 19,
   "id": "7103d411fcb6114a",
   "metadata": {
    "ExecuteTime": {
     "end_time": "2025-01-22T06:21:12.209911Z",
     "start_time": "2025-01-22T06:21:12.182473Z"
    }
   },
   "outputs": [],
   "source": [
    "df.to_csv(r\"C:\\Users\\indra\\Desktop\\DSG PROJECT\\BH25\\late_submission.csv\", index=False) # saving the final df as csv file"
   ]
  },
  {
   "cell_type": "markdown",
   "id": "1b23a07e",
   "metadata": {},
   "source": [
    "# learnt a lot from this project!!!"
   ]
  }
 ],
 "metadata": {
  "kernelspec": {
   "display_name": "deeplearning",
   "language": "python",
   "name": "python3"
  },
  "language_info": {
   "codemirror_mode": {
    "name": "ipython",
    "version": 3
   },
   "file_extension": ".py",
   "mimetype": "text/x-python",
   "name": "python",
   "nbconvert_exporter": "python",
   "pygments_lexer": "ipython3",
   "version": "3.12.8"
  }
 },
 "nbformat": 4,
 "nbformat_minor": 5
}
