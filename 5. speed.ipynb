{
 "cells": [
  {
   "cell_type": "markdown",
   "id": "72963e5d",
   "metadata": {},
   "source": [
    "# speed: XGBClassifier"
   ]
  },
  {
   "cell_type": "code",
   "execution_count": 1,
   "id": "initial_id",
   "metadata": {
    "ExecuteTime": {
     "end_time": "2025-01-18T12:02:03.800791Z",
     "start_time": "2025-01-18T12:02:03.609184Z"
    },
    "collapsed": true
   },
   "outputs": [],
   "source": [
    "import pandas as pd\n",
    "import numpy as np\n",
    "from sklearn.preprocessing import LabelEncoder\n",
    "train_video_features= np.load(r\"C:\\Users\\indra\\Desktop\\DSG PROJECT\\video_features_noiseless_grayscale.npy\")\n",
    "# the train csv is loaded\n",
    "df= pd.read_csv(r'C:\\Users\\indra\\Desktop\\DSG PROJECT\\BH25\\Training_Data\\train.csv')\n",
    "\n",
    "# since there are only 2 distinct values of speed the values are label encoded as 0 and 1\n",
    "le = LabelEncoder()\n",
    "df[\"speed\"] = le.fit_transform(df[\"speed\"])"
   ]
  },
  {
   "cell_type": "code",
   "execution_count": 2,
   "id": "5d14396a6b59d041",
   "metadata": {
    "ExecuteTime": {
     "end_time": "2025-01-18T12:02:03.833476Z",
     "start_time": "2025-01-18T12:02:03.800791Z"
    }
   },
   "outputs": [
    {
     "data": {
      "text/html": [
       "<div>\n",
       "<style scoped>\n",
       "    .dataframe tbody tr th:only-of-type {\n",
       "        vertical-align: middle;\n",
       "    }\n",
       "\n",
       "    .dataframe tbody tr th {\n",
       "        vertical-align: top;\n",
       "    }\n",
       "\n",
       "    .dataframe thead th {\n",
       "        text-align: right;\n",
       "    }\n",
       "</style>\n",
       "<table border=\"1\" class=\"dataframe\">\n",
       "  <thead>\n",
       "    <tr style=\"text-align: right;\">\n",
       "      <th></th>\n",
       "      <th>video_id</th>\n",
       "      <th>element</th>\n",
       "      <th>motion</th>\n",
       "      <th>power</th>\n",
       "      <th>speed</th>\n",
       "      <th>video_summary</th>\n",
       "    </tr>\n",
       "  </thead>\n",
       "  <tbody>\n",
       "    <tr>\n",
       "      <th>0</th>\n",
       "      <td>1</td>\n",
       "      <td>Erde</td>\n",
       "      <td>linear</td>\n",
       "      <td>rot</td>\n",
       "      <td>1</td>\n",
       "      <td>(3.8147, 31.94809)</td>\n",
       "    </tr>\n",
       "    <tr>\n",
       "      <th>1</th>\n",
       "      <td>2</td>\n",
       "      <td>Feuer</td>\n",
       "      <td>shm</td>\n",
       "      <td>grin</td>\n",
       "      <td>1</td>\n",
       "      <td>(26.70288, -4.29153)</td>\n",
       "    </tr>\n",
       "    <tr>\n",
       "      <th>2</th>\n",
       "      <td>3</td>\n",
       "      <td>Feuer</td>\n",
       "      <td>random</td>\n",
       "      <td>gelb</td>\n",
       "      <td>1</td>\n",
       "      <td>(3.8147, 8.58307)</td>\n",
       "    </tr>\n",
       "    <tr>\n",
       "      <th>3</th>\n",
       "      <td>4</td>\n",
       "      <td>Erde</td>\n",
       "      <td>zigzag</td>\n",
       "      <td>lila</td>\n",
       "      <td>0</td>\n",
       "      <td>(-24.79553, -0.95367)</td>\n",
       "    </tr>\n",
       "    <tr>\n",
       "      <th>4</th>\n",
       "      <td>5</td>\n",
       "      <td>Erde</td>\n",
       "      <td>linear</td>\n",
       "      <td>lila</td>\n",
       "      <td>1</td>\n",
       "      <td>(7.62939, 22.88818)</td>\n",
       "    </tr>\n",
       "    <tr>\n",
       "      <th>...</th>\n",
       "      <td>...</td>\n",
       "      <td>...</td>\n",
       "      <td>...</td>\n",
       "      <td>...</td>\n",
       "      <td>...</td>\n",
       "      <td>...</td>\n",
       "    </tr>\n",
       "    <tr>\n",
       "      <th>9995</th>\n",
       "      <td>9996</td>\n",
       "      <td>Feuer</td>\n",
       "      <td>zigzag</td>\n",
       "      <td>rot</td>\n",
       "      <td>1</td>\n",
       "      <td>(-1.90735, -11.44409)</td>\n",
       "    </tr>\n",
       "    <tr>\n",
       "      <th>9996</th>\n",
       "      <td>9997</td>\n",
       "      <td>Wasser</td>\n",
       "      <td>shm</td>\n",
       "      <td>gelb</td>\n",
       "      <td>1</td>\n",
       "      <td>(0.0, 13.14282)</td>\n",
       "    </tr>\n",
       "    <tr>\n",
       "      <th>9997</th>\n",
       "      <td>9998</td>\n",
       "      <td>Feuer</td>\n",
       "      <td>circular</td>\n",
       "      <td>lila</td>\n",
       "      <td>0</td>\n",
       "      <td>(17.64297, 10.49042)</td>\n",
       "    </tr>\n",
       "    <tr>\n",
       "      <th>9998</th>\n",
       "      <td>9999</td>\n",
       "      <td>Boden</td>\n",
       "      <td>zigzag</td>\n",
       "      <td>gelb</td>\n",
       "      <td>1</td>\n",
       "      <td>(-21.45767, 11.44409)</td>\n",
       "    </tr>\n",
       "    <tr>\n",
       "      <th>9999</th>\n",
       "      <td>10000</td>\n",
       "      <td>Luft</td>\n",
       "      <td>zigzag</td>\n",
       "      <td>gelb</td>\n",
       "      <td>0</td>\n",
       "      <td>(-18.11981, -6.4373)</td>\n",
       "    </tr>\n",
       "  </tbody>\n",
       "</table>\n",
       "<p>10000 rows × 6 columns</p>\n",
       "</div>"
      ],
      "text/plain": [
       "      video_id element    motion power  speed          video_summary\n",
       "0            1    Erde    linear   rot      1     (3.8147, 31.94809)\n",
       "1            2   Feuer       shm  grin      1   (26.70288, -4.29153)\n",
       "2            3   Feuer    random  gelb      1      (3.8147, 8.58307)\n",
       "3            4    Erde    zigzag  lila      0  (-24.79553, -0.95367)\n",
       "4            5    Erde    linear  lila      1    (7.62939, 22.88818)\n",
       "...        ...     ...       ...   ...    ...                    ...\n",
       "9995      9996   Feuer    zigzag   rot      1  (-1.90735, -11.44409)\n",
       "9996      9997  Wasser       shm  gelb      1        (0.0, 13.14282)\n",
       "9997      9998   Feuer  circular  lila      0   (17.64297, 10.49042)\n",
       "9998      9999   Boden    zigzag  gelb      1  (-21.45767, 11.44409)\n",
       "9999     10000    Luft    zigzag  gelb      0   (-18.11981, -6.4373)\n",
       "\n",
       "[10000 rows x 6 columns]"
      ]
     },
     "execution_count": 2,
     "metadata": {},
     "output_type": "execute_result"
    }
   ],
   "source": [
    "df"
   ]
  },
  {
   "cell_type": "code",
   "execution_count": 3,
   "id": "fc814e83e9bda993",
   "metadata": {
    "ExecuteTime": {
     "end_time": "2025-01-18T12:02:03.892243Z",
     "start_time": "2025-01-18T12:02:03.844709Z"
    }
   },
   "outputs": [],
   "source": [
    "from sklearn.model_selection import train_test_split\n",
    "label= df[\"speed\"] # label is defined for y value of the model\n",
    "X_train, X_val, y_train, y_val = train_test_split(train_video_features, label, test_size=0.2, random_state=42)\n"
   ]
  },
  {
   "cell_type": "code",
   "execution_count": 4,
   "id": "8f7ca533bb09c44a",
   "metadata": {
    "ExecuteTime": {
     "end_time": "2025-01-18T12:03:14.903677Z",
     "start_time": "2025-01-18T12:02:03.938121Z"
    }
   },
   "outputs": [
    {
     "name": "stderr",
     "output_type": "stream",
     "text": [
      "C:\\Users\\indra\\AppData\\Local\\Packages\\PythonSoftwareFoundation.Python.3.13_qbz5n2kfra8p0\\LocalCache\\local-packages\\Python313\\site-packages\\xgboost\\core.py:158: UserWarning: [18:49:07] WARNING: C:\\buildkite-agent\\builds\\buildkite-windows-cpu-autoscaling-group-i-0c55ff5f71b100e98-1\\xgboost\\xgboost-ci-windows\\src\\learner.cc:740: \n",
      "Parameters: { \"use_label_encoder\" } are not used.\n",
      "\n",
      "  warnings.warn(smsg, UserWarning)\n"
     ]
    },
    {
     "name": "stdout",
     "output_type": "stream",
     "text": [
      "1.0\n",
      "done\n"
     ]
    }
   ],
   "source": [
    "# XGBClassifier is used for this model\n",
    "from xgboost import XGBClassifier\n",
    "model = XGBClassifier(\n",
    "    n_estimators=200,         \n",
    "    learning_rate=0.1,        \n",
    "    max_depth=6,              \n",
    "    subsample=0.8,            \n",
    "    colsample_bytree=0.8,     \n",
    "    random_state=42,          \n",
    "    use_label_encoder=False,  \n",
    "    eval_metric=\"logloss\"     \n",
    ")\n",
    "# these parameters are derived by hyper parameter tunning with gridsearch cv in other notebook\n",
    "\n",
    "model.fit(train_video_features, label)\n",
    "\n",
    "print(\"done\") "
   ]
  },
  {
   "cell_type": "code",
   "execution_count": 5,
   "id": "528a737d59286610",
   "metadata": {
    "ExecuteTime": {
     "end_time": "2025-01-18T12:03:15.371799Z",
     "start_time": "2025-01-18T12:03:15.335277Z"
    }
   },
   "outputs": [
    {
     "data": {
      "text/plain": [
       "1.0"
      ]
     },
     "execution_count": 5,
     "metadata": {},
     "output_type": "execute_result"
    }
   ],
   "source": [
    "model.score(X_val, y_val) # checked the eval accuracy on seen data"
   ]
  },
  {
   "cell_type": "code",
   "execution_count": 6,
   "id": "37ce58a9aa95b103",
   "metadata": {
    "ExecuteTime": {
     "end_time": "2025-01-18T12:04:10.581634Z",
     "start_time": "2025-01-18T12:04:10.550448Z"
    }
   },
   "outputs": [
    {
     "data": {
      "text/plain": [
       "['./speed_model.pkl']"
      ]
     },
     "execution_count": 6,
     "metadata": {},
     "output_type": "execute_result"
    }
   ],
   "source": [
    "import joblib\n",
    "joblib.dump(model, './speed_model.pkl')\n",
    "\n",
    "# the model is saved for further use"
   ]
  },
  {
   "cell_type": "code",
   "execution_count": 7,
   "id": "ae1b31ced6a09d77",
   "metadata": {},
   "outputs": [
    {
     "data": {
      "text/plain": [
       "['label_encoder_speed.pkl']"
      ]
     },
     "execution_count": 7,
     "metadata": {},
     "output_type": "execute_result"
    }
   ],
   "source": [
    "joblib.dump(le, 'label_encoder_speed.pkl')\n",
    "# the label encodes are used for further use"
   ]
  }
 ],
 "metadata": {
  "kernelspec": {
   "display_name": "Python 3",
   "language": "python",
   "name": "python3"
  },
  "language_info": {
   "codemirror_mode": {
    "name": "ipython",
    "version": 3
   },
   "file_extension": ".py",
   "mimetype": "text/x-python",
   "name": "python",
   "nbconvert_exporter": "python",
   "pygments_lexer": "ipython3",
   "version": "3.13.1"
  }
 },
 "nbformat": 4,
 "nbformat_minor": 5
}
