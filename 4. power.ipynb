{
 "cells": [
  {
   "cell_type": "code",
   "execution_count": 1,
   "id": "initial_id",
   "metadata": {
    "ExecuteTime": {
     "end_time": "2025-01-22T06:19:50.149803Z",
     "start_time": "2025-01-22T06:19:48.975061Z"
    },
    "collapsed": true
   },
   "outputs": [],
   "source": [
    "import pandas as pd\n",
    "df= pd.read_csv(r\"C:\\Users\\indra\\Desktop\\DSG PROJECT\\BH25\\Training_Data\\train.csv\") # the train csv is loaded"
   ]
  },
  {
   "cell_type": "code",
   "execution_count": 2,
   "id": "e580385e2f24417",
   "metadata": {
    "ExecuteTime": {
     "end_time": "2025-01-22T06:19:50.362712Z",
     "start_time": "2025-01-22T06:19:50.356045Z"
    }
   },
   "outputs": [
    {
     "data": {
      "text/plain": [
       "array(['rot', 'grin', 'gelb', 'lila', 'blau', 'grun', 'trun', 'gela',\n",
       "       'brun'], dtype=object)"
      ]
     },
     "execution_count": 2,
     "metadata": {},
     "output_type": "execute_result"
    }
   ],
   "source": [
    "df[\"power\"].unique() # checked the unique powers available of which many are noises"
   ]
  },
  {
   "cell_type": "code",
   "execution_count": 3,
   "id": "439df2f8df9dfd06",
   "metadata": {
    "ExecuteTime": {
     "end_time": "2025-01-22T06:19:50.406781Z",
     "start_time": "2025-01-22T06:19:50.398553Z"
    }
   },
   "outputs": [
    {
     "data": {
      "text/plain": [
       "power\n",
       "rot     2062\n",
       "blau    2022\n",
       "lila    2009\n",
       "gelb    1728\n",
       "grun    1390\n",
       "grin     199\n",
       "trun     199\n",
       "brun     199\n",
       "gela     192\n",
       "Name: count, dtype: int64"
      ]
     },
     "execution_count": 3,
     "metadata": {},
     "output_type": "execute_result"
    }
   ],
   "source": [
    "data = {\n",
    "    'power': ['rot', 'grin', 'geld', 'lila', 'blau', 'btau', 'rot', 'helb',\n",
    "               'rod', 'grin', 'got', 'not', 'lila', 'trun', 'gela', 'gelt',\n",
    "               'baau', 'liga', 'gelb', 'plau', 'brun', 'rot', 'lili', 'slau',\n",
    "               'lisa', 'blru', 'grus', 'lula', 'gele', 'gaun']\n",
    "}\n",
    "\n",
    "# Count the occurrences of each unique element\n",
    "value_counts = df['power'].value_counts()\n",
    "\n",
    "value_counts # this was done to identify the outliers or noise\n"
   ]
  },
  {
   "cell_type": "code",
   "execution_count": 4,
   "id": "d87cc7e0652ecc29",
   "metadata": {
    "ExecuteTime": {
     "end_time": "2025-01-22T06:20:08.873222Z",
     "start_time": "2025-01-22T06:20:08.864210Z"
    }
   },
   "outputs": [],
   "source": [
    "df = df[df['power'].isin(['rot', 'blau', 'lila', 'grun', 'gelb'])] # the rows with noise were droped and only 5 types of powers are kept for training"
   ]
  },
  {
   "cell_type": "code",
   "execution_count": 5,
   "id": "109f46dfa9af1d0",
   "metadata": {
    "ExecuteTime": {
     "end_time": "2025-01-22T06:20:09.624628Z",
     "start_time": "2025-01-22T06:20:09.609528Z"
    }
   },
   "outputs": [
    {
     "data": {
      "text/html": [
       "<div>\n",
       "<style scoped>\n",
       "    .dataframe tbody tr th:only-of-type {\n",
       "        vertical-align: middle;\n",
       "    }\n",
       "\n",
       "    .dataframe tbody tr th {\n",
       "        vertical-align: top;\n",
       "    }\n",
       "\n",
       "    .dataframe thead th {\n",
       "        text-align: right;\n",
       "    }\n",
       "</style>\n",
       "<table border=\"1\" class=\"dataframe\">\n",
       "  <thead>\n",
       "    <tr style=\"text-align: right;\">\n",
       "      <th></th>\n",
       "      <th>video_id</th>\n",
       "      <th>element</th>\n",
       "      <th>motion</th>\n",
       "      <th>power</th>\n",
       "      <th>speed</th>\n",
       "      <th>video_summary</th>\n",
       "    </tr>\n",
       "  </thead>\n",
       "  <tbody>\n",
       "    <tr>\n",
       "      <th>0</th>\n",
       "      <td>1</td>\n",
       "      <td>Erde</td>\n",
       "      <td>linear</td>\n",
       "      <td>rot</td>\n",
       "      <td>9.6</td>\n",
       "      <td>(3.8147, 31.94809)</td>\n",
       "    </tr>\n",
       "    <tr>\n",
       "      <th>2</th>\n",
       "      <td>3</td>\n",
       "      <td>Feuer</td>\n",
       "      <td>random</td>\n",
       "      <td>gelb</td>\n",
       "      <td>9.6</td>\n",
       "      <td>(3.8147, 8.58307)</td>\n",
       "    </tr>\n",
       "    <tr>\n",
       "      <th>3</th>\n",
       "      <td>4</td>\n",
       "      <td>Erde</td>\n",
       "      <td>zigzag</td>\n",
       "      <td>lila</td>\n",
       "      <td>6.9</td>\n",
       "      <td>(-24.79553, -0.95367)</td>\n",
       "    </tr>\n",
       "    <tr>\n",
       "      <th>4</th>\n",
       "      <td>5</td>\n",
       "      <td>Erde</td>\n",
       "      <td>linear</td>\n",
       "      <td>lila</td>\n",
       "      <td>9.6</td>\n",
       "      <td>(7.62939, 22.88818)</td>\n",
       "    </tr>\n",
       "    <tr>\n",
       "      <th>5</th>\n",
       "      <td>6</td>\n",
       "      <td>Erde</td>\n",
       "      <td>circular</td>\n",
       "      <td>blau</td>\n",
       "      <td>9.6</td>\n",
       "      <td>(4.76837, -26.70288)</td>\n",
       "    </tr>\n",
       "    <tr>\n",
       "      <th>...</th>\n",
       "      <td>...</td>\n",
       "      <td>...</td>\n",
       "      <td>...</td>\n",
       "      <td>...</td>\n",
       "      <td>...</td>\n",
       "      <td>...</td>\n",
       "    </tr>\n",
       "    <tr>\n",
       "      <th>9995</th>\n",
       "      <td>9996</td>\n",
       "      <td>Feuer</td>\n",
       "      <td>zigzag</td>\n",
       "      <td>rot</td>\n",
       "      <td>9.6</td>\n",
       "      <td>(-1.90735, -11.44409)</td>\n",
       "    </tr>\n",
       "    <tr>\n",
       "      <th>9996</th>\n",
       "      <td>9997</td>\n",
       "      <td>Wasser</td>\n",
       "      <td>shm</td>\n",
       "      <td>gelb</td>\n",
       "      <td>9.6</td>\n",
       "      <td>(0.0, 13.14282)</td>\n",
       "    </tr>\n",
       "    <tr>\n",
       "      <th>9997</th>\n",
       "      <td>9998</td>\n",
       "      <td>Feuer</td>\n",
       "      <td>circular</td>\n",
       "      <td>lila</td>\n",
       "      <td>6.9</td>\n",
       "      <td>(17.64297, 10.49042)</td>\n",
       "    </tr>\n",
       "    <tr>\n",
       "      <th>9998</th>\n",
       "      <td>9999</td>\n",
       "      <td>Boden</td>\n",
       "      <td>zigzag</td>\n",
       "      <td>gelb</td>\n",
       "      <td>9.6</td>\n",
       "      <td>(-21.45767, 11.44409)</td>\n",
       "    </tr>\n",
       "    <tr>\n",
       "      <th>9999</th>\n",
       "      <td>10000</td>\n",
       "      <td>Luft</td>\n",
       "      <td>zigzag</td>\n",
       "      <td>gelb</td>\n",
       "      <td>6.9</td>\n",
       "      <td>(-18.11981, -6.4373)</td>\n",
       "    </tr>\n",
       "  </tbody>\n",
       "</table>\n",
       "<p>9211 rows × 6 columns</p>\n",
       "</div>"
      ],
      "text/plain": [
       "      video_id element    motion power  speed          video_summary\n",
       "0            1    Erde    linear   rot    9.6     (3.8147, 31.94809)\n",
       "2            3   Feuer    random  gelb    9.6      (3.8147, 8.58307)\n",
       "3            4    Erde    zigzag  lila    6.9  (-24.79553, -0.95367)\n",
       "4            5    Erde    linear  lila    9.6    (7.62939, 22.88818)\n",
       "5            6    Erde  circular  blau    9.6   (4.76837, -26.70288)\n",
       "...        ...     ...       ...   ...    ...                    ...\n",
       "9995      9996   Feuer    zigzag   rot    9.6  (-1.90735, -11.44409)\n",
       "9996      9997  Wasser       shm  gelb    9.6        (0.0, 13.14282)\n",
       "9997      9998   Feuer  circular  lila    6.9   (17.64297, 10.49042)\n",
       "9998      9999   Boden    zigzag  gelb    9.6  (-21.45767, 11.44409)\n",
       "9999     10000    Luft    zigzag  gelb    6.9   (-18.11981, -6.4373)\n",
       "\n",
       "[9211 rows x 6 columns]"
      ]
     },
     "execution_count": 5,
     "metadata": {},
     "output_type": "execute_result"
    }
   ],
   "source": [
    "df"
   ]
  },
  {
   "cell_type": "code",
   "execution_count": 6,
   "id": "b64f04f17dfb9e1c",
   "metadata": {
    "ExecuteTime": {
     "end_time": "2025-01-22T06:20:37.209064Z",
     "start_time": "2025-01-22T06:20:11.585929Z"
    }
   },
   "outputs": [
    {
     "name": "stdout",
     "output_type": "stream",
     "text": [
      "done\n"
     ]
    }
   ],
   "source": [
    "import cv2\n",
    "import pandas as pd\n",
    "\n",
    "\n",
    "def extract_brightest_color(video_path):\n",
    "    cap = cv2.VideoCapture(video_path) # cv is to read the frames of the videos\n",
    "    success, frame = cap.read()  # Reads the frames\n",
    "\n",
    "    if success: # checks if frames are available\n",
    "        frame_rgb = cv2.cvtColor(frame, cv2.COLOR_BGR2RGB) # converts the frame to rgb \n",
    "        brightest_pixel = frame_rgb.reshape(-1, 3).max(axis=0)  # gets RGB values of the brightest pixel\n",
    "        return [int(value) for value in brightest_pixel]  \n",
    "    else:\n",
    "        print(f\"Could not read video: {video_path}\")  # notifies if the video is unaccessible \n",
    "        return None\n",
    "    cap.release()\n",
    "\n",
    "def update_csv_with_brightest_color(df, video_folder):\n",
    "    brightest_colors = []\n",
    "\n",
    "    for video_id in df['video_id']:\n",
    "        video_path = f\"{video_folder}/{video_id}.mp4\"  # reads the videos with the ids in the updated df\n",
    "        rgb = extract_brightest_color(video_path) # runs the function to extract the brightest colour of the frame\n",
    "        brightest_colors.append(rgb)\n",
    "\n",
    "    df['shape_rgb_values'] = brightest_colors # creates another column in the df and stores the value of brightest colours\n",
    "    return df\n",
    "\n",
    "video_folder = \"./Train_Videos\"  # folder with the videos\n",
    "\n",
    "\n",
    "df= update_csv_with_brightest_color(df, video_folder)\n",
    "print(\"done\")\n"
   ]
  },
  {
   "cell_type": "code",
   "execution_count": 7,
   "id": "1c5d7bda47da5fc0",
   "metadata": {
    "ExecuteTime": {
     "end_time": "2025-01-22T06:20:38.568672Z",
     "start_time": "2025-01-22T06:20:38.530390Z"
    }
   },
   "outputs": [
    {
     "data": {
      "text/html": [
       "<div>\n",
       "<style scoped>\n",
       "    .dataframe tbody tr th:only-of-type {\n",
       "        vertical-align: middle;\n",
       "    }\n",
       "\n",
       "    .dataframe tbody tr th {\n",
       "        vertical-align: top;\n",
       "    }\n",
       "\n",
       "    .dataframe thead th {\n",
       "        text-align: right;\n",
       "    }\n",
       "</style>\n",
       "<table border=\"1\" class=\"dataframe\">\n",
       "  <thead>\n",
       "    <tr style=\"text-align: right;\">\n",
       "      <th></th>\n",
       "      <th>video_id</th>\n",
       "      <th>element</th>\n",
       "      <th>motion</th>\n",
       "      <th>power</th>\n",
       "      <th>speed</th>\n",
       "      <th>video_summary</th>\n",
       "      <th>shape_rgb_values</th>\n",
       "      <th>R</th>\n",
       "      <th>G</th>\n",
       "      <th>B</th>\n",
       "    </tr>\n",
       "  </thead>\n",
       "  <tbody>\n",
       "    <tr>\n",
       "      <th>0</th>\n",
       "      <td>1</td>\n",
       "      <td>Erde</td>\n",
       "      <td>linear</td>\n",
       "      <td>rot</td>\n",
       "      <td>9.6</td>\n",
       "      <td>(3.8147, 31.94809)</td>\n",
       "      <td>[103, 80, 248]</td>\n",
       "      <td>103</td>\n",
       "      <td>80</td>\n",
       "      <td>248</td>\n",
       "    </tr>\n",
       "    <tr>\n",
       "      <th>2</th>\n",
       "      <td>3</td>\n",
       "      <td>Feuer</td>\n",
       "      <td>random</td>\n",
       "      <td>gelb</td>\n",
       "      <td>9.6</td>\n",
       "      <td>(3.8147, 8.58307)</td>\n",
       "      <td>[129, 212, 255]</td>\n",
       "      <td>129</td>\n",
       "      <td>212</td>\n",
       "      <td>255</td>\n",
       "    </tr>\n",
       "    <tr>\n",
       "      <th>3</th>\n",
       "      <td>4</td>\n",
       "      <td>Erde</td>\n",
       "      <td>zigzag</td>\n",
       "      <td>lila</td>\n",
       "      <td>6.9</td>\n",
       "      <td>(-24.79553, -0.95367)</td>\n",
       "      <td>[123, 54, 99]</td>\n",
       "      <td>123</td>\n",
       "      <td>54</td>\n",
       "      <td>99</td>\n",
       "    </tr>\n",
       "    <tr>\n",
       "      <th>4</th>\n",
       "      <td>5</td>\n",
       "      <td>Erde</td>\n",
       "      <td>linear</td>\n",
       "      <td>lila</td>\n",
       "      <td>9.6</td>\n",
       "      <td>(7.62939, 22.88818)</td>\n",
       "      <td>[121, 44, 98]</td>\n",
       "      <td>121</td>\n",
       "      <td>44</td>\n",
       "      <td>98</td>\n",
       "    </tr>\n",
       "    <tr>\n",
       "      <th>5</th>\n",
       "      <td>6</td>\n",
       "      <td>Erde</td>\n",
       "      <td>circular</td>\n",
       "      <td>blau</td>\n",
       "      <td>9.6</td>\n",
       "      <td>(4.76837, -26.70288)</td>\n",
       "      <td>[195, 255, 180]</td>\n",
       "      <td>195</td>\n",
       "      <td>255</td>\n",
       "      <td>180</td>\n",
       "    </tr>\n",
       "    <tr>\n",
       "      <th>...</th>\n",
       "      <td>...</td>\n",
       "      <td>...</td>\n",
       "      <td>...</td>\n",
       "      <td>...</td>\n",
       "      <td>...</td>\n",
       "      <td>...</td>\n",
       "      <td>...</td>\n",
       "      <td>...</td>\n",
       "      <td>...</td>\n",
       "      <td>...</td>\n",
       "    </tr>\n",
       "    <tr>\n",
       "      <th>9995</th>\n",
       "      <td>9996</td>\n",
       "      <td>Feuer</td>\n",
       "      <td>zigzag</td>\n",
       "      <td>rot</td>\n",
       "      <td>9.6</td>\n",
       "      <td>(-1.90735, -11.44409)</td>\n",
       "      <td>[101, 72, 240]</td>\n",
       "      <td>101</td>\n",
       "      <td>72</td>\n",
       "      <td>240</td>\n",
       "    </tr>\n",
       "    <tr>\n",
       "      <th>9996</th>\n",
       "      <td>9997</td>\n",
       "      <td>Wasser</td>\n",
       "      <td>shm</td>\n",
       "      <td>gelb</td>\n",
       "      <td>9.6</td>\n",
       "      <td>(0.0, 13.14282)</td>\n",
       "      <td>[129, 218, 255]</td>\n",
       "      <td>129</td>\n",
       "      <td>218</td>\n",
       "      <td>255</td>\n",
       "    </tr>\n",
       "    <tr>\n",
       "      <th>9997</th>\n",
       "      <td>9998</td>\n",
       "      <td>Feuer</td>\n",
       "      <td>circular</td>\n",
       "      <td>lila</td>\n",
       "      <td>6.9</td>\n",
       "      <td>(17.64297, 10.49042)</td>\n",
       "      <td>[121, 47, 97]</td>\n",
       "      <td>121</td>\n",
       "      <td>47</td>\n",
       "      <td>97</td>\n",
       "    </tr>\n",
       "    <tr>\n",
       "      <th>9998</th>\n",
       "      <td>9999</td>\n",
       "      <td>Boden</td>\n",
       "      <td>zigzag</td>\n",
       "      <td>gelb</td>\n",
       "      <td>9.6</td>\n",
       "      <td>(-21.45767, 11.44409)</td>\n",
       "      <td>[136, 216, 255]</td>\n",
       "      <td>136</td>\n",
       "      <td>216</td>\n",
       "      <td>255</td>\n",
       "    </tr>\n",
       "    <tr>\n",
       "      <th>9999</th>\n",
       "      <td>10000</td>\n",
       "      <td>Luft</td>\n",
       "      <td>zigzag</td>\n",
       "      <td>gelb</td>\n",
       "      <td>6.9</td>\n",
       "      <td>(-18.11981, -6.4373)</td>\n",
       "      <td>[136, 216, 255]</td>\n",
       "      <td>136</td>\n",
       "      <td>216</td>\n",
       "      <td>255</td>\n",
       "    </tr>\n",
       "  </tbody>\n",
       "</table>\n",
       "<p>9211 rows × 10 columns</p>\n",
       "</div>"
      ],
      "text/plain": [
       "      video_id element    motion power  speed          video_summary  \\\n",
       "0            1    Erde    linear   rot    9.6     (3.8147, 31.94809)   \n",
       "2            3   Feuer    random  gelb    9.6      (3.8147, 8.58307)   \n",
       "3            4    Erde    zigzag  lila    6.9  (-24.79553, -0.95367)   \n",
       "4            5    Erde    linear  lila    9.6    (7.62939, 22.88818)   \n",
       "5            6    Erde  circular  blau    9.6   (4.76837, -26.70288)   \n",
       "...        ...     ...       ...   ...    ...                    ...   \n",
       "9995      9996   Feuer    zigzag   rot    9.6  (-1.90735, -11.44409)   \n",
       "9996      9997  Wasser       shm  gelb    9.6        (0.0, 13.14282)   \n",
       "9997      9998   Feuer  circular  lila    6.9   (17.64297, 10.49042)   \n",
       "9998      9999   Boden    zigzag  gelb    9.6  (-21.45767, 11.44409)   \n",
       "9999     10000    Luft    zigzag  gelb    6.9   (-18.11981, -6.4373)   \n",
       "\n",
       "     shape_rgb_values    R    G    B  \n",
       "0      [103, 80, 248]  103   80  248  \n",
       "2     [129, 212, 255]  129  212  255  \n",
       "3       [123, 54, 99]  123   54   99  \n",
       "4       [121, 44, 98]  121   44   98  \n",
       "5     [195, 255, 180]  195  255  180  \n",
       "...               ...  ...  ...  ...  \n",
       "9995   [101, 72, 240]  101   72  240  \n",
       "9996  [129, 218, 255]  129  218  255  \n",
       "9997    [121, 47, 97]  121   47   97  \n",
       "9998  [136, 216, 255]  136  216  255  \n",
       "9999  [136, 216, 255]  136  216  255  \n",
       "\n",
       "[9211 rows x 10 columns]"
      ]
     },
     "execution_count": 7,
     "metadata": {},
     "output_type": "execute_result"
    }
   ],
   "source": [
    "df[['R', 'G', 'B']] = pd.DataFrame(df['shape_rgb_values'].tolist(), index=df.index) # the tuple is seperated to different columns as R G B\n",
    "df"
   ]
  },
  {
   "cell_type": "markdown",
   "id": "415ac6b5",
   "metadata": {},
   "source": [
    "# power: LogisticRegression"
   ]
  },
  {
   "cell_type": "code",
   "execution_count": 8,
   "id": "932860b4a757ed19",
   "metadata": {
    "ExecuteTime": {
     "end_time": "2025-01-22T06:20:41.370800Z",
     "start_time": "2025-01-22T06:20:40.007775Z"
    }
   },
   "outputs": [],
   "source": [
    "from sklearn.model_selection import train_test_split\n",
    "from sklearn.preprocessing import StandardScaler, LabelEncoder\n",
    "le = LabelEncoder()\n",
    "df[\"power\"] = le.fit_transform(df[\"power\"])\n",
    "X = df[['R', 'G', 'B']]  # defines the X value of the model\n",
    "y = df[\"power\"]             # defines the y value of the model\n",
    "\n",
    "\n",
    "X_train, X_test, y_train, y_test = train_test_split(X, y, test_size=0.2, random_state=42) # Split data into training and test sets \n",
    "\n",
    "scaler = StandardScaler()\n",
    "X_train_scaled = scaler.fit_transform(X_train)\n",
    "X_test_scaled = scaler.transform(X_test)\n",
    "X_scaled = scaler.fit_transform(X)\n",
    "# the values are preprocessed with standardscalar before training with Logistic regression for more accuracy\n"
   ]
  },
  {
   "cell_type": "code",
   "execution_count": 9,
   "id": "2a6433a5550f985f",
   "metadata": {
    "ExecuteTime": {
     "end_time": "2025-01-22T06:20:41.690113Z",
     "start_time": "2025-01-22T06:20:41.376642Z"
    }
   },
   "outputs": [
    {
     "data": {
      "text/plain": [
       "1.0"
      ]
     },
     "execution_count": 9,
     "metadata": {},
     "output_type": "execute_result"
    }
   ],
   "source": [
    "from sklearn.linear_model import LogisticRegression\n",
    "model = LogisticRegression()\n",
    "\n",
    "model.fit(X_train_scaled, y_train)\n",
    "\n",
    "model.score(X_test_scaled, y_test)\n",
    "\n"
   ]
  },
  {
   "cell_type": "code",
   "execution_count": 10,
   "id": "3ea81a35f90bee2a",
   "metadata": {
    "ExecuteTime": {
     "end_time": "2025-01-22T06:20:43.115345Z",
     "start_time": "2025-01-22T06:20:43.103518Z"
    }
   },
   "outputs": [
    {
     "data": {
      "text/plain": [
       "['label_encoder_power.pkl']"
      ]
     },
     "execution_count": 10,
     "metadata": {},
     "output_type": "execute_result"
    }
   ],
   "source": [
    "import joblib\n",
    "joblib.dump(model, './power_model.pkl')\n",
    "joblib.dump(le, 'label_encoder_power.pkl')\n",
    "# the model and the label encodes are saved"
   ]
  },
  {
   "cell_type": "code",
   "execution_count": null,
   "id": "ea186b65202765a1",
   "metadata": {},
   "outputs": [],
   "source": []
  }
 ],
 "metadata": {
  "kernelspec": {
   "display_name": "Python 3",
   "language": "python",
   "name": "python3"
  },
  "language_info": {
   "codemirror_mode": {
    "name": "ipython",
    "version": 3
   },
   "file_extension": ".py",
   "mimetype": "text/x-python",
   "name": "python",
   "nbconvert_exporter": "python",
   "pygments_lexer": "ipython3",
   "version": "3.13.1"
  }
 },
 "nbformat": 4,
 "nbformat_minor": 5
}
