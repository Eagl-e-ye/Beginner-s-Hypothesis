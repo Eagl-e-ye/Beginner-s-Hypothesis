{
 "cells": [
  {
   "cell_type": "code",
   "execution_count": 1,
   "metadata": {
    "execution": {
     "iopub.execute_input": "2025-01-18T19:26:29.505018Z",
     "iopub.status.busy": "2025-01-18T19:26:29.504798Z",
     "iopub.status.idle": "2025-01-18T19:26:29.878386Z",
     "shell.execute_reply": "2025-01-18T19:26:29.877556Z",
     "shell.execute_reply.started": "2025-01-18T19:26:29.504998Z"
    },
    "trusted": true
   },
   "outputs": [
    {
     "name": "stdout",
     "output_type": "stream",
     "text": [
      "      video_id element    motion power  speed          video_summary\n",
      "0            1    Erde    linear   rot    9.6     (3.8147, 31.94809)\n",
      "1            2   Feuer       shm  grin    9.6   (26.70288, -4.29153)\n",
      "2            3   Feuer    random  geld    9.6      (3.8147, 8.58307)\n",
      "3            4    Erde    zigzag  lila    6.9  (-24.79553, -0.95367)\n",
      "4            5    Erde    linear  lila    9.6    (7.62939, 22.88818)\n",
      "...        ...     ...       ...   ...    ...                    ...\n",
      "9995      9996   Feuer    zigzag   rut    9.6  (-1.90735, -11.44409)\n",
      "9996      9997  Wasser       shm  gelb    9.6        (0.0, 13.14282)\n",
      "9997      9998   Feuer  circular  lela    6.9   (17.64297, 10.49042)\n",
      "9998      9999   Boden    zigzag  gele    9.6  (-21.45767, 11.44409)\n",
      "9999     10000    Luft    zigzag  gele    6.9   (-18.11981, -6.4373)\n",
      "\n",
      "[10000 rows x 6 columns]\n"
     ]
    }
   ],
   "source": [
    "import pandas as pd\n",
    "import numpy as np\n",
    "\n",
    "train_df = pd.read_csv('/kaggle/input/beginners-hypothesis-25/BH25/Training_Data/train.csv')\n",
    "\n",
    "print(train_df)\n",
    "\n",
    "# the training csv file is loaded\n"
   ]
  },
  {
   "cell_type": "code",
   "execution_count": 2,
   "metadata": {
    "execution": {
     "iopub.execute_input": "2025-01-18T19:26:29.879661Z",
     "iopub.status.busy": "2025-01-18T19:26:29.879323Z",
     "iopub.status.idle": "2025-01-18T19:26:35.578079Z",
     "shell.execute_reply": "2025-01-18T19:26:35.577393Z",
     "shell.execute_reply.started": "2025-01-18T19:26:29.879639Z"
    },
    "trusted": true
   },
   "outputs": [
    {
     "name": "stderr",
     "output_type": "stream",
     "text": [
      "/usr/local/lib/python3.10/dist-packages/torchvision/models/_utils.py:208: UserWarning: The parameter 'pretrained' is deprecated since 0.13 and may be removed in the future, please use 'weights' instead.\n",
      "  warnings.warn(\n",
      "/usr/local/lib/python3.10/dist-packages/torchvision/models/_utils.py:223: UserWarning: Arguments other than a weight enum or `None` for 'weights' are deprecated since 0.13 and may be removed in the future. The current behavior is equivalent to passing `weights=ResNet50_Weights.IMAGENET1K_V1`. You can also use `weights=ResNet50_Weights.DEFAULT` to get the most up-to-date weights.\n",
      "  warnings.warn(msg)\n",
      "Downloading: \"https://download.pytorch.org/models/resnet50-0676ba61.pth\" to /root/.cache/torch/hub/checkpoints/resnet50-0676ba61.pth\n",
      "100%|██████████| 97.8M/97.8M [00:00<00:00, 194MB/s]\n"
     ]
    }
   ],
   "source": [
    "import torch \n",
    "import cv2\n",
    "import torchvision.models as models\n",
    "from torchvision import transforms\n",
    "\n",
    "device = torch.device(\"cuda\" if torch.cuda.is_available() else \"cpu\")\n",
    "# all computation took place in gpu, I used kaggle to access GPU P100\n",
    "\n",
    "# loading resnet50 model\n",
    "resnet50=models.resnet50(pretrained=True).to(device)\n",
    "resnet50=torch.nn.Sequential(*list(resnet50.children()))[:-1]\n",
    "resnet50.eval() # set the model to evaluation mode\n",
    "\n",
    "# transformation of frames\n",
    "transform = transforms.Compose([\n",
    "    transforms.ToPILImage(),\n",
    "    transforms.Grayscale(num_output_channels=3),\n",
    "    transforms.Resize((224,224)),\n",
    "    transforms.ToTensor(),\n",
    "    transforms.Normalize(mean=[0.485, 0.456, 0.406], std=[0.229, 0.224, 0.225])\n",
    "])\n",
    "\n",
    "\n",
    "\n",
    "def extract_video_features(video_path):\n",
    "    cap= cv2.VideoCapture(video_path)\n",
    "    frame_features=[]\n",
    "\n",
    "    while True:\n",
    "        ret, frame= cap.read()\n",
    "        if not ret:\n",
    "            break\n",
    "        try:\n",
    "            frame=cv2.GaussianBlur(frame,(3,3),0)\n",
    "            frame= transform(frame).unsqueeze(0).to(device)\n",
    "            with torch.no_grad():\n",
    "                features = resnet50(frame).squeeze().cpu().numpy() \n",
    "            frame_features.append(features)\n",
    "        except Exception:\n",
    "            print(f\"Error processing frame in {video_path}\") # prints error if the video is not accessible due to any reason\n",
    "    cap.release()\n",
    "\n",
    "\n",
    "    return np.mean(frame_features, axis=0) \n",
    "\"\"\"This computes the average of all extracted feature vectors in the axis column from the frames of the video \n",
    "Taking the mean for all the frames  reduces the dimensionality from a list of vectors (one per frame) to a single vector\"\"\"\n",
    "\n",
    "# this is the function to read the video frames and extract features"
   ]
  },
  {
   "cell_type": "code",
   "execution_count": null,
   "metadata": {
    "execution": {
     "execution_failed": "2025-01-18T19:27:15.810Z",
     "iopub.execute_input": "2025-01-18T19:26:35.579245Z",
     "iopub.status.busy": "2025-01-18T19:26:35.578850Z"
    },
    "scrolled": true,
    "trusted": true
   },
   "outputs": [
    {
     "name": "stdout",
     "output_type": "stream",
     "text": [
      "precessing /kaggle/input/beginners-hypothesis-25/BH25/Testing_Data/100.mp4\n",
      "precessing /kaggle/input/beginners-hypothesis-25/BH25/Testing_Data/200.mp4\n"
     ]
    }
   ],
   "source": [
    "import numpy as np\n",
    "import pandas as pd\n",
    "\n",
    "\n",
    "\n",
    "video_base_path = \"path to train video folder\"  # Path to the folder containing video files\n",
    "\n",
    "data = []\n",
    "\n",
    "for idx, row in train_df.iterrows():\n",
    "    video_path = f\"{video_base_path}/{row['video_id']}.mp4\"\n",
    "    if (idx+1)%100==0:\n",
    "        print(f\"precessing {video_path}\")\n",
    "    try:\n",
    "        # Extract features for the video\n",
    "        features = extract_video_features(video_path)\n",
    "        data.append(features) \n",
    "    except Exception as e:\n",
    "        print(f\"Error processing {video_path}: {e}\")\n",
    "        continue\n",
    "\n",
    "video_features = np.array(data)  # Extract features stored in data list is converted to array\n",
    "print(\"done\")\n",
    "\n",
    "# this loop is used to check all the video and apply the \"extract_vidoe_feature\" function to it and store the extracted features inthe video_features array\n"
   ]
  },
  {
   "cell_type": "code",
   "execution_count": null,
   "metadata": {
    "execution": {
     "execution_failed": "2025-01-18T19:27:15.810Z"
    },
    "trusted": true
   },
   "outputs": [],
   "source": [
    "print(\"Features Shape (X):\", video_features.shape) # checked the dimension of the array\n",
    "np.save(\"path to save folder.npy\", video_features) # saved the features in with .npy"
   ]
  },
  {
   "cell_type": "code",
   "execution_count": null,
   "metadata": {
    "trusted": true
   },
   "outputs": [],
   "source": []
  }
 ],
 "metadata": {
  "kaggle": {
   "accelerator": "gpu",
   "dataSources": [
    {
     "databundleVersionId": 10710872,
     "sourceId": 91048,
     "sourceType": "competition"
    },
    {
     "datasetId": 6439745,
     "sourceId": 10393902,
     "sourceType": "datasetVersion"
    },
    {
     "datasetId": 6440610,
     "sourceId": 10395048,
     "sourceType": "datasetVersion"
    }
   ],
   "dockerImageVersionId": 30822,
   "isGpuEnabled": true,
   "isInternetEnabled": true,
   "language": "python",
   "sourceType": "notebook"
  },
  "kernelspec": {
   "display_name": "Python 3",
   "language": "python",
   "name": "python3"
  },
  "language_info": {
   "codemirror_mode": {
    "name": "ipython",
    "version": 3
   },
   "file_extension": ".py",
   "mimetype": "text/x-python",
   "name": "python",
   "nbconvert_exporter": "python",
   "pygments_lexer": "ipython3",
   "version": "3.10.12"
  }
 },
 "nbformat": 4,
 "nbformat_minor": 4
}
